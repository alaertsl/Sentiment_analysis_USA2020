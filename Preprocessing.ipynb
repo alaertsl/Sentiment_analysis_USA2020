{
 "cells": [
  {
   "cell_type": "code",
   "execution_count": 1,
   "metadata": {},
   "outputs": [],
   "source": [
    "import pandas as pd\n",
    "import os "
   ]
  },
  {
   "cell_type": "markdown",
   "metadata": {},
   "source": [
    "1.1 Gathering data"
   ]
  },
  {
   "cell_type": "code",
   "execution_count": 2,
   "metadata": {},
   "outputs": [],
   "source": [
    "os.chdir('D:\\Madeline\\Documents\\BIRC21\\Data science')\n",
    "Data = pd.read_csv('./training.1600000.processed.noemoticon.csv',header = None,encoding = 'ISO-8859-1')"
   ]
  },
  {
   "cell_type": "code",
   "execution_count": 3,
   "metadata": {},
   "outputs": [
    {
     "data": {
      "text/html": [
       "<div>\n",
       "<style scoped>\n",
       "    .dataframe tbody tr th:only-of-type {\n",
       "        vertical-align: middle;\n",
       "    }\n",
       "\n",
       "    .dataframe tbody tr th {\n",
       "        vertical-align: top;\n",
       "    }\n",
       "\n",
       "    .dataframe thead th {\n",
       "        text-align: right;\n",
       "    }\n",
       "</style>\n",
       "<table border=\"1\" class=\"dataframe\">\n",
       "  <thead>\n",
       "    <tr style=\"text-align: right;\">\n",
       "      <th></th>\n",
       "      <th>Polarity</th>\n",
       "      <th>Tweet_ID</th>\n",
       "      <th>Date</th>\n",
       "      <th>Query_username</th>\n",
       "      <th>Username</th>\n",
       "      <th>Tweet_text</th>\n",
       "    </tr>\n",
       "  </thead>\n",
       "  <tbody>\n",
       "    <tr>\n",
       "      <th>0</th>\n",
       "      <td>0</td>\n",
       "      <td>1467810369</td>\n",
       "      <td>Mon Apr 06 22:19:45 PDT 2009</td>\n",
       "      <td>NO_QUERY</td>\n",
       "      <td>_TheSpecialOne_</td>\n",
       "      <td>@switchfoot http://twitpic.com/2y1zl - Awww, t...</td>\n",
       "    </tr>\n",
       "    <tr>\n",
       "      <th>1</th>\n",
       "      <td>0</td>\n",
       "      <td>1467810672</td>\n",
       "      <td>Mon Apr 06 22:19:49 PDT 2009</td>\n",
       "      <td>NO_QUERY</td>\n",
       "      <td>scotthamilton</td>\n",
       "      <td>is upset that he can't update his Facebook by ...</td>\n",
       "    </tr>\n",
       "    <tr>\n",
       "      <th>2</th>\n",
       "      <td>0</td>\n",
       "      <td>1467810917</td>\n",
       "      <td>Mon Apr 06 22:19:53 PDT 2009</td>\n",
       "      <td>NO_QUERY</td>\n",
       "      <td>mattycus</td>\n",
       "      <td>@Kenichan I dived many times for the ball. Man...</td>\n",
       "    </tr>\n",
       "    <tr>\n",
       "      <th>3</th>\n",
       "      <td>0</td>\n",
       "      <td>1467811184</td>\n",
       "      <td>Mon Apr 06 22:19:57 PDT 2009</td>\n",
       "      <td>NO_QUERY</td>\n",
       "      <td>ElleCTF</td>\n",
       "      <td>my whole body feels itchy and like its on fire</td>\n",
       "    </tr>\n",
       "    <tr>\n",
       "      <th>4</th>\n",
       "      <td>0</td>\n",
       "      <td>1467811193</td>\n",
       "      <td>Mon Apr 06 22:19:57 PDT 2009</td>\n",
       "      <td>NO_QUERY</td>\n",
       "      <td>Karoli</td>\n",
       "      <td>@nationwideclass no, it's not behaving at all....</td>\n",
       "    </tr>\n",
       "  </tbody>\n",
       "</table>\n",
       "</div>"
      ],
      "text/plain": [
       "   Polarity    Tweet_ID                          Date Query_username  \\\n",
       "0         0  1467810369  Mon Apr 06 22:19:45 PDT 2009       NO_QUERY   \n",
       "1         0  1467810672  Mon Apr 06 22:19:49 PDT 2009       NO_QUERY   \n",
       "2         0  1467810917  Mon Apr 06 22:19:53 PDT 2009       NO_QUERY   \n",
       "3         0  1467811184  Mon Apr 06 22:19:57 PDT 2009       NO_QUERY   \n",
       "4         0  1467811193  Mon Apr 06 22:19:57 PDT 2009       NO_QUERY   \n",
       "\n",
       "          Username                                         Tweet_text  \n",
       "0  _TheSpecialOne_  @switchfoot http://twitpic.com/2y1zl - Awww, t...  \n",
       "1    scotthamilton  is upset that he can't update his Facebook by ...  \n",
       "2         mattycus  @Kenichan I dived many times for the ball. Man...  \n",
       "3          ElleCTF    my whole body feels itchy and like its on fire   \n",
       "4           Karoli  @nationwideclass no, it's not behaving at all....  "
      ]
     },
     "execution_count": 3,
     "metadata": {},
     "output_type": "execute_result"
    }
   ],
   "source": [
    "Data.columns = ['Polarity', 'Tweet_ID','Date','Query_username','Username','Tweet_text']\n",
    "Data.head()"
   ]
  },
  {
   "cell_type": "code",
   "execution_count": 4,
   "metadata": {},
   "outputs": [
    {
     "data": {
      "text/html": [
       "<div>\n",
       "<style scoped>\n",
       "    .dataframe tbody tr th:only-of-type {\n",
       "        vertical-align: middle;\n",
       "    }\n",
       "\n",
       "    .dataframe tbody tr th {\n",
       "        vertical-align: top;\n",
       "    }\n",
       "\n",
       "    .dataframe thead th {\n",
       "        text-align: right;\n",
       "    }\n",
       "</style>\n",
       "<table border=\"1\" class=\"dataframe\">\n",
       "  <thead>\n",
       "    <tr style=\"text-align: right;\">\n",
       "      <th></th>\n",
       "      <th>Polarity</th>\n",
       "      <th>Tweet_ID</th>\n",
       "      <th>Date</th>\n",
       "      <th>Query_username</th>\n",
       "      <th>Username</th>\n",
       "      <th>Tweet_text</th>\n",
       "    </tr>\n",
       "  </thead>\n",
       "  <tbody>\n",
       "    <tr>\n",
       "      <th>739574</th>\n",
       "      <td>0</td>\n",
       "      <td>2265764621</td>\n",
       "      <td>Sun Jun 21 07:15:48 PDT 2009</td>\n",
       "      <td>NO_QUERY</td>\n",
       "      <td>gixywixypixy</td>\n",
       "      <td>@littleboyblues  Sana nga we went there nalang...</td>\n",
       "    </tr>\n",
       "    <tr>\n",
       "      <th>485178</th>\n",
       "      <td>0</td>\n",
       "      <td>2181045771</td>\n",
       "      <td>Mon Jun 15 11:17:33 PDT 2009</td>\n",
       "      <td>NO_QUERY</td>\n",
       "      <td>veganwrites</td>\n",
       "      <td>@Lindsey_ I was very bummed to hear Obama did ...</td>\n",
       "    </tr>\n",
       "    <tr>\n",
       "      <th>699620</th>\n",
       "      <td>0</td>\n",
       "      <td>2254506626</td>\n",
       "      <td>Sat Jun 20 09:51:19 PDT 2009</td>\n",
       "      <td>NO_QUERY</td>\n",
       "      <td>MichaelaMoose</td>\n",
       "      <td>@Ryanthen :o OMG SRSLY? that's so gay (( i lov...</td>\n",
       "    </tr>\n",
       "    <tr>\n",
       "      <th>30470</th>\n",
       "      <td>0</td>\n",
       "      <td>1563772448</td>\n",
       "      <td>Mon Apr 20 00:11:56 PDT 2009</td>\n",
       "      <td>NO_QUERY</td>\n",
       "      <td>shmerin</td>\n",
       "      <td>@snowwahine We totally missed you, you would'v...</td>\n",
       "    </tr>\n",
       "    <tr>\n",
       "      <th>292482</th>\n",
       "      <td>0</td>\n",
       "      <td>1996011865</td>\n",
       "      <td>Mon Jun 01 14:23:48 PDT 2009</td>\n",
       "      <td>NO_QUERY</td>\n",
       "      <td>liamcrook</td>\n",
       "      <td>yep!... definitely sunburnt!</td>\n",
       "    </tr>\n",
       "  </tbody>\n",
       "</table>\n",
       "</div>"
      ],
      "text/plain": [
       "        Polarity    Tweet_ID                          Date Query_username  \\\n",
       "739574         0  2265764621  Sun Jun 21 07:15:48 PDT 2009       NO_QUERY   \n",
       "485178         0  2181045771  Mon Jun 15 11:17:33 PDT 2009       NO_QUERY   \n",
       "699620         0  2254506626  Sat Jun 20 09:51:19 PDT 2009       NO_QUERY   \n",
       "30470          0  1563772448  Mon Apr 20 00:11:56 PDT 2009       NO_QUERY   \n",
       "292482         0  1996011865  Mon Jun 01 14:23:48 PDT 2009       NO_QUERY   \n",
       "\n",
       "             Username                                         Tweet_text  \n",
       "739574   gixywixypixy  @littleboyblues  Sana nga we went there nalang...  \n",
       "485178    veganwrites  @Lindsey_ I was very bummed to hear Obama did ...  \n",
       "699620  MichaelaMoose  @Ryanthen :o OMG SRSLY? that's so gay (( i lov...  \n",
       "30470         shmerin  @snowwahine We totally missed you, you would'v...  \n",
       "292482      liamcrook                      yep!... definitely sunburnt!   "
      ]
     },
     "execution_count": 4,
     "metadata": {},
     "output_type": "execute_result"
    }
   ],
   "source": [
    "# Besoin d'entrainer sur beaucoup moins de tweets (j'en prends que 10 000 ici, 5000 positifs et 5000 négatifs)! \n",
    "\n",
    "Datapos = Data[Data['Polarity']==0]\n",
    "Dataneg = Data[Data['Polarity']==4]\n",
    "\n",
    "Data_sub = pd.concat([Datapos.sample(5000),Dataneg.sample(5000)], axis=0)\n",
    "Data_sub.head()"
   ]
  },
  {
   "cell_type": "markdown",
   "metadata": {},
   "source": [
    "1.2 Dividing between testing and training data"
   ]
  },
  {
   "cell_type": "code",
   "execution_count": 5,
   "metadata": {},
   "outputs": [
    {
     "name": "stdout",
     "output_type": "stream",
     "text": [
      "On a 1600000 tweets au total.\n",
      "{0, 4}\n"
     ]
    }
   ],
   "source": [
    "# On va diviser ce dataset en données d'entrainement et données test. J'ai choisi au hasard une proportion 70/30. \n",
    "\n",
    "number_tweets = list(Data.shape)[0]\n",
    "print('On a',number_tweets, 'tweets au total.')\n",
    "print(set(Data['Polarity']))"
   ]
  },
  {
   "cell_type": "code",
   "execution_count": 6,
   "metadata": {},
   "outputs": [],
   "source": [
    "from sklearn.model_selection import train_test_split\n",
    "Data_train, Data_test = train_test_split(Data_sub, test_size=0.3)"
   ]
  },
  {
   "cell_type": "code",
   "execution_count": 7,
   "metadata": {},
   "outputs": [
    {
     "data": {
      "text/html": [
       "<div>\n",
       "<style scoped>\n",
       "    .dataframe tbody tr th:only-of-type {\n",
       "        vertical-align: middle;\n",
       "    }\n",
       "\n",
       "    .dataframe tbody tr th {\n",
       "        vertical-align: top;\n",
       "    }\n",
       "\n",
       "    .dataframe thead th {\n",
       "        text-align: right;\n",
       "    }\n",
       "</style>\n",
       "<table border=\"1\" class=\"dataframe\">\n",
       "  <thead>\n",
       "    <tr style=\"text-align: right;\">\n",
       "      <th></th>\n",
       "      <th>Polarity</th>\n",
       "      <th>Tweet_ID</th>\n",
       "      <th>Date</th>\n",
       "      <th>Query_username</th>\n",
       "      <th>Username</th>\n",
       "      <th>Tweet_text</th>\n",
       "    </tr>\n",
       "  </thead>\n",
       "  <tbody>\n",
       "    <tr>\n",
       "      <th>333998</th>\n",
       "      <td>0</td>\n",
       "      <td>2013467609</td>\n",
       "      <td>Tue Jun 02 22:44:54 PDT 2009</td>\n",
       "      <td>NO_QUERY</td>\n",
       "      <td>djmattyg007</td>\n",
       "      <td>@technicolours fair enough. both her and Beckz...</td>\n",
       "    </tr>\n",
       "    <tr>\n",
       "      <th>123563</th>\n",
       "      <td>0</td>\n",
       "      <td>1833932850</td>\n",
       "      <td>Mon May 18 00:59:42 PDT 2009</td>\n",
       "      <td>NO_QUERY</td>\n",
       "      <td>sarihta</td>\n",
       "      <td>Insomniaaaaaaaaaa tomorrow ill see 17 again ya...</td>\n",
       "    </tr>\n",
       "    <tr>\n",
       "      <th>1540795</th>\n",
       "      <td>4</td>\n",
       "      <td>2180551079</td>\n",
       "      <td>Mon Jun 15 10:37:25 PDT 2009</td>\n",
       "      <td>NO_QUERY</td>\n",
       "      <td>Larissa_134</td>\n",
       "      <td>why am I on twitter, I never log on...actually</td>\n",
       "    </tr>\n",
       "    <tr>\n",
       "      <th>908681</th>\n",
       "      <td>4</td>\n",
       "      <td>1750930769</td>\n",
       "      <td>Sat May 09 18:15:46 PDT 2009</td>\n",
       "      <td>NO_QUERY</td>\n",
       "      <td>JeremyCShipp</td>\n",
       "      <td>@rorschachsgirl Yeah--those pants are horrible...</td>\n",
       "    </tr>\n",
       "    <tr>\n",
       "      <th>1246933</th>\n",
       "      <td>4</td>\n",
       "      <td>1995427780</td>\n",
       "      <td>Mon Jun 01 13:28:28 PDT 2009</td>\n",
       "      <td>NO_QUERY</td>\n",
       "      <td>shampster</td>\n",
       "      <td>@TBone_SB I've been playing with www.wolframal...</td>\n",
       "    </tr>\n",
       "  </tbody>\n",
       "</table>\n",
       "</div>"
      ],
      "text/plain": [
       "         Polarity    Tweet_ID                          Date Query_username  \\\n",
       "333998          0  2013467609  Tue Jun 02 22:44:54 PDT 2009       NO_QUERY   \n",
       "123563          0  1833932850  Mon May 18 00:59:42 PDT 2009       NO_QUERY   \n",
       "1540795         4  2180551079  Mon Jun 15 10:37:25 PDT 2009       NO_QUERY   \n",
       "908681          4  1750930769  Sat May 09 18:15:46 PDT 2009       NO_QUERY   \n",
       "1246933         4  1995427780  Mon Jun 01 13:28:28 PDT 2009       NO_QUERY   \n",
       "\n",
       "             Username                                         Tweet_text  \n",
       "333998    djmattyg007  @technicolours fair enough. both her and Beckz...  \n",
       "123563        sarihta  Insomniaaaaaaaaaa tomorrow ill see 17 again ya...  \n",
       "1540795   Larissa_134    why am I on twitter, I never log on...actually   \n",
       "908681   JeremyCShipp  @rorschachsgirl Yeah--those pants are horrible...  \n",
       "1246933     shampster  @TBone_SB I've been playing with www.wolframal...  "
      ]
     },
     "execution_count": 7,
     "metadata": {},
     "output_type": "execute_result"
    }
   ],
   "source": [
    "Data_train.head()"
   ]
  },
  {
   "cell_type": "markdown",
   "metadata": {},
   "source": [
    "2. Preprocessing"
   ]
  },
  {
   "cell_type": "code",
   "execution_count": 8,
   "metadata": {},
   "outputs": [],
   "source": [
    "import nltk\n",
    "from nltk import word_tokenize\n",
    "from nltk.corpus import stopwords\n",
    "from nltk.stem.porter import PorterStemmer\n",
    "import warnings\n",
    "warnings.filterwarnings('ignore')"
   ]
  },
  {
   "cell_type": "code",
   "execution_count": 9,
   "metadata": {},
   "outputs": [],
   "source": [
    "def prepro(text,i):\n",
    "    clean=text[i].astype(str).str.replace(\"(@[A-Za-z0-9]+)|([^0-9A-Za-z \\t])|(\\w+:\\/\\/\\S+)\", \" \")\n",
    "    lowercase=clean.str.lower()\n",
    "    words=lowercase.apply(word_tokenize)\n",
    "    stop_words = stopwords.words('english') \n",
    "    filtered_words = words.apply(lambda x:[word for word in x if word not in stop_words])\n",
    "    porter = PorterStemmer()\n",
    "    text['Tweet_clean']=filtered_words.apply(lambda x:[porter.stem(word) for word in x])\n",
    "    return text"
   ]
  },
  {
   "cell_type": "code",
   "execution_count": 10,
   "metadata": {},
   "outputs": [],
   "source": [
    "Data_train_clean=prepro(Data_train,'Tweet_text')\n",
    "Data_test_clean=prepro(Data_test,'Tweet_text')"
   ]
  },
  {
   "cell_type": "code",
   "execution_count": 11,
   "metadata": {},
   "outputs": [
    {
     "data": {
      "text/html": [
       "<div>\n",
       "<style scoped>\n",
       "    .dataframe tbody tr th:only-of-type {\n",
       "        vertical-align: middle;\n",
       "    }\n",
       "\n",
       "    .dataframe tbody tr th {\n",
       "        vertical-align: top;\n",
       "    }\n",
       "\n",
       "    .dataframe thead th {\n",
       "        text-align: right;\n",
       "    }\n",
       "</style>\n",
       "<table border=\"1\" class=\"dataframe\">\n",
       "  <thead>\n",
       "    <tr style=\"text-align: right;\">\n",
       "      <th></th>\n",
       "      <th>Polarity</th>\n",
       "      <th>Tweet_ID</th>\n",
       "      <th>Date</th>\n",
       "      <th>Query_username</th>\n",
       "      <th>Username</th>\n",
       "      <th>Tweet_text</th>\n",
       "      <th>Tweet_clean</th>\n",
       "    </tr>\n",
       "  </thead>\n",
       "  <tbody>\n",
       "    <tr>\n",
       "      <th>333998</th>\n",
       "      <td>0</td>\n",
       "      <td>2013467609</td>\n",
       "      <td>Tue Jun 02 22:44:54 PDT 2009</td>\n",
       "      <td>NO_QUERY</td>\n",
       "      <td>djmattyg007</td>\n",
       "      <td>@technicolours fair enough. both her and Beckz...</td>\n",
       "      <td>[fair, enough, beckz, hardli, mni, anymor, eit...</td>\n",
       "    </tr>\n",
       "    <tr>\n",
       "      <th>123563</th>\n",
       "      <td>0</td>\n",
       "      <td>1833932850</td>\n",
       "      <td>Mon May 18 00:59:42 PDT 2009</td>\n",
       "      <td>NO_QUERY</td>\n",
       "      <td>sarihta</td>\n",
       "      <td>Insomniaaaaaaaaaa tomorrow ill see 17 again ya...</td>\n",
       "      <td>[insomniaaaaaaaaaa, tomorrow, ill, see, 17, ya...</td>\n",
       "    </tr>\n",
       "    <tr>\n",
       "      <th>1540795</th>\n",
       "      <td>4</td>\n",
       "      <td>2180551079</td>\n",
       "      <td>Mon Jun 15 10:37:25 PDT 2009</td>\n",
       "      <td>NO_QUERY</td>\n",
       "      <td>Larissa_134</td>\n",
       "      <td>why am I on twitter, I never log on...actually</td>\n",
       "      <td>[twitter, never, log, actual]</td>\n",
       "    </tr>\n",
       "    <tr>\n",
       "      <th>908681</th>\n",
       "      <td>4</td>\n",
       "      <td>1750930769</td>\n",
       "      <td>Sat May 09 18:15:46 PDT 2009</td>\n",
       "      <td>NO_QUERY</td>\n",
       "      <td>JeremyCShipp</td>\n",
       "      <td>@rorschachsgirl Yeah--those pants are horrible...</td>\n",
       "      <td>[yeah, pant, horribl, yeah, wife, love, job, l...</td>\n",
       "    </tr>\n",
       "    <tr>\n",
       "      <th>1246933</th>\n",
       "      <td>4</td>\n",
       "      <td>1995427780</td>\n",
       "      <td>Mon Jun 01 13:28:28 PDT 2009</td>\n",
       "      <td>NO_QUERY</td>\n",
       "      <td>shampster</td>\n",
       "      <td>@TBone_SB I've been playing with www.wolframal...</td>\n",
       "      <td>[sb, play, www, wolframalpha, com, know, answe...</td>\n",
       "    </tr>\n",
       "  </tbody>\n",
       "</table>\n",
       "</div>"
      ],
      "text/plain": [
       "         Polarity    Tweet_ID                          Date Query_username  \\\n",
       "333998          0  2013467609  Tue Jun 02 22:44:54 PDT 2009       NO_QUERY   \n",
       "123563          0  1833932850  Mon May 18 00:59:42 PDT 2009       NO_QUERY   \n",
       "1540795         4  2180551079  Mon Jun 15 10:37:25 PDT 2009       NO_QUERY   \n",
       "908681          4  1750930769  Sat May 09 18:15:46 PDT 2009       NO_QUERY   \n",
       "1246933         4  1995427780  Mon Jun 01 13:28:28 PDT 2009       NO_QUERY   \n",
       "\n",
       "             Username                                         Tweet_text  \\\n",
       "333998    djmattyg007  @technicolours fair enough. both her and Beckz...   \n",
       "123563        sarihta  Insomniaaaaaaaaaa tomorrow ill see 17 again ya...   \n",
       "1540795   Larissa_134    why am I on twitter, I never log on...actually    \n",
       "908681   JeremyCShipp  @rorschachsgirl Yeah--those pants are horrible...   \n",
       "1246933     shampster  @TBone_SB I've been playing with www.wolframal...   \n",
       "\n",
       "                                               Tweet_clean  \n",
       "333998   [fair, enough, beckz, hardli, mni, anymor, eit...  \n",
       "123563   [insomniaaaaaaaaaa, tomorrow, ill, see, 17, ya...  \n",
       "1540795                      [twitter, never, log, actual]  \n",
       "908681   [yeah, pant, horribl, yeah, wife, love, job, l...  \n",
       "1246933  [sb, play, www, wolframalpha, com, know, answe...  "
      ]
     },
     "execution_count": 11,
     "metadata": {},
     "output_type": "execute_result"
    }
   ],
   "source": [
    "Data_train_clean.head()"
   ]
  },
  {
   "cell_type": "code",
   "execution_count": 12,
   "metadata": {},
   "outputs": [
    {
     "data": {
      "text/plain": [
       "list"
      ]
     },
     "execution_count": 12,
     "metadata": {},
     "output_type": "execute_result"
    }
   ],
   "source": [
    "type(Data_train_clean.iloc[0][6])"
   ]
  }
 ],
 "metadata": {
  "kernelspec": {
   "display_name": "Python 3",
   "language": "python",
   "name": "python3"
  },
  "language_info": {
   "codemirror_mode": {
    "name": "ipython",
    "version": 3
   },
   "file_extension": ".py",
   "mimetype": "text/x-python",
   "name": "python",
   "nbconvert_exporter": "python",
   "pygments_lexer": "ipython3",
   "version": "3.8.3"
  }
 },
 "nbformat": 4,
 "nbformat_minor": 4
}
