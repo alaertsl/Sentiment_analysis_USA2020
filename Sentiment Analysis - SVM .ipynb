{
 "cells": [
  {
   "cell_type": "code",
   "execution_count": 1,
   "metadata": {},
   "outputs": [],
   "source": [
    "import pandas as pd\n",
    "import os "
   ]
  },
  {
   "cell_type": "markdown",
   "metadata": {},
   "source": [
    "# 1.1. Gathering data's "
   ]
  },
  {
   "cell_type": "code",
   "execution_count": 2,
   "metadata": {},
   "outputs": [],
   "source": [
    "os.chdir('/Users/constancevandendorpe/Desktop/UCLM2Q1/LBIRTI2101B - Data Science in bioscience enginerring - Partim B /trainingandtestdata')\n",
    "Data = pd.read_csv('./training.1600000.processed.noemoticon.csv',header = None,encoding = 'ISO-8859-1')"
   ]
  },
  {
   "cell_type": "code",
   "execution_count": 15,
   "metadata": {},
   "outputs": [
    {
     "data": {
      "text/html": [
       "<div>\n",
       "<style scoped>\n",
       "    .dataframe tbody tr th:only-of-type {\n",
       "        vertical-align: middle;\n",
       "    }\n",
       "\n",
       "    .dataframe tbody tr th {\n",
       "        vertical-align: top;\n",
       "    }\n",
       "\n",
       "    .dataframe thead th {\n",
       "        text-align: right;\n",
       "    }\n",
       "</style>\n",
       "<table border=\"1\" class=\"dataframe\">\n",
       "  <thead>\n",
       "    <tr style=\"text-align: right;\">\n",
       "      <th></th>\n",
       "      <th>Polarity</th>\n",
       "      <th>Tweet_ID</th>\n",
       "      <th>Date</th>\n",
       "      <th>Query_username</th>\n",
       "      <th>Username</th>\n",
       "      <th>Tweet_text</th>\n",
       "    </tr>\n",
       "  </thead>\n",
       "  <tbody>\n",
       "    <tr>\n",
       "      <td>0</td>\n",
       "      <td>0</td>\n",
       "      <td>1467810369</td>\n",
       "      <td>Mon Apr 06 22:19:45 PDT 2009</td>\n",
       "      <td>NO_QUERY</td>\n",
       "      <td>_TheSpecialOne_</td>\n",
       "      <td>@switchfoot http://twitpic.com/2y1zl - Awww, t...</td>\n",
       "    </tr>\n",
       "    <tr>\n",
       "      <td>1</td>\n",
       "      <td>0</td>\n",
       "      <td>1467810672</td>\n",
       "      <td>Mon Apr 06 22:19:49 PDT 2009</td>\n",
       "      <td>NO_QUERY</td>\n",
       "      <td>scotthamilton</td>\n",
       "      <td>is upset that he can't update his Facebook by ...</td>\n",
       "    </tr>\n",
       "    <tr>\n",
       "      <td>2</td>\n",
       "      <td>0</td>\n",
       "      <td>1467810917</td>\n",
       "      <td>Mon Apr 06 22:19:53 PDT 2009</td>\n",
       "      <td>NO_QUERY</td>\n",
       "      <td>mattycus</td>\n",
       "      <td>@Kenichan I dived many times for the ball. Man...</td>\n",
       "    </tr>\n",
       "    <tr>\n",
       "      <td>3</td>\n",
       "      <td>0</td>\n",
       "      <td>1467811184</td>\n",
       "      <td>Mon Apr 06 22:19:57 PDT 2009</td>\n",
       "      <td>NO_QUERY</td>\n",
       "      <td>ElleCTF</td>\n",
       "      <td>my whole body feels itchy and like its on fire</td>\n",
       "    </tr>\n",
       "    <tr>\n",
       "      <td>4</td>\n",
       "      <td>0</td>\n",
       "      <td>1467811193</td>\n",
       "      <td>Mon Apr 06 22:19:57 PDT 2009</td>\n",
       "      <td>NO_QUERY</td>\n",
       "      <td>Karoli</td>\n",
       "      <td>@nationwideclass no, it's not behaving at all....</td>\n",
       "    </tr>\n",
       "    <tr>\n",
       "      <td>...</td>\n",
       "      <td>...</td>\n",
       "      <td>...</td>\n",
       "      <td>...</td>\n",
       "      <td>...</td>\n",
       "      <td>...</td>\n",
       "      <td>...</td>\n",
       "    </tr>\n",
       "    <tr>\n",
       "      <td>1599995</td>\n",
       "      <td>4</td>\n",
       "      <td>2193601966</td>\n",
       "      <td>Tue Jun 16 08:40:49 PDT 2009</td>\n",
       "      <td>NO_QUERY</td>\n",
       "      <td>AmandaMarie1028</td>\n",
       "      <td>Just woke up. Having no school is the best fee...</td>\n",
       "    </tr>\n",
       "    <tr>\n",
       "      <td>1599996</td>\n",
       "      <td>4</td>\n",
       "      <td>2193601969</td>\n",
       "      <td>Tue Jun 16 08:40:49 PDT 2009</td>\n",
       "      <td>NO_QUERY</td>\n",
       "      <td>TheWDBoards</td>\n",
       "      <td>TheWDB.com - Very cool to hear old Walt interv...</td>\n",
       "    </tr>\n",
       "    <tr>\n",
       "      <td>1599997</td>\n",
       "      <td>4</td>\n",
       "      <td>2193601991</td>\n",
       "      <td>Tue Jun 16 08:40:49 PDT 2009</td>\n",
       "      <td>NO_QUERY</td>\n",
       "      <td>bpbabe</td>\n",
       "      <td>Are you ready for your MoJo Makeover? Ask me f...</td>\n",
       "    </tr>\n",
       "    <tr>\n",
       "      <td>1599998</td>\n",
       "      <td>4</td>\n",
       "      <td>2193602064</td>\n",
       "      <td>Tue Jun 16 08:40:49 PDT 2009</td>\n",
       "      <td>NO_QUERY</td>\n",
       "      <td>tinydiamondz</td>\n",
       "      <td>Happy 38th Birthday to my boo of alll time!!! ...</td>\n",
       "    </tr>\n",
       "    <tr>\n",
       "      <td>1599999</td>\n",
       "      <td>4</td>\n",
       "      <td>2193602129</td>\n",
       "      <td>Tue Jun 16 08:40:50 PDT 2009</td>\n",
       "      <td>NO_QUERY</td>\n",
       "      <td>RyanTrevMorris</td>\n",
       "      <td>happy #charitytuesday @theNSPCC @SparksCharity...</td>\n",
       "    </tr>\n",
       "  </tbody>\n",
       "</table>\n",
       "<p>1600000 rows × 6 columns</p>\n",
       "</div>"
      ],
      "text/plain": [
       "         Polarity    Tweet_ID                          Date Query_username  \\\n",
       "0               0  1467810369  Mon Apr 06 22:19:45 PDT 2009       NO_QUERY   \n",
       "1               0  1467810672  Mon Apr 06 22:19:49 PDT 2009       NO_QUERY   \n",
       "2               0  1467810917  Mon Apr 06 22:19:53 PDT 2009       NO_QUERY   \n",
       "3               0  1467811184  Mon Apr 06 22:19:57 PDT 2009       NO_QUERY   \n",
       "4               0  1467811193  Mon Apr 06 22:19:57 PDT 2009       NO_QUERY   \n",
       "...           ...         ...                           ...            ...   \n",
       "1599995         4  2193601966  Tue Jun 16 08:40:49 PDT 2009       NO_QUERY   \n",
       "1599996         4  2193601969  Tue Jun 16 08:40:49 PDT 2009       NO_QUERY   \n",
       "1599997         4  2193601991  Tue Jun 16 08:40:49 PDT 2009       NO_QUERY   \n",
       "1599998         4  2193602064  Tue Jun 16 08:40:49 PDT 2009       NO_QUERY   \n",
       "1599999         4  2193602129  Tue Jun 16 08:40:50 PDT 2009       NO_QUERY   \n",
       "\n",
       "                Username                                         Tweet_text  \n",
       "0        _TheSpecialOne_  @switchfoot http://twitpic.com/2y1zl - Awww, t...  \n",
       "1          scotthamilton  is upset that he can't update his Facebook by ...  \n",
       "2               mattycus  @Kenichan I dived many times for the ball. Man...  \n",
       "3                ElleCTF    my whole body feels itchy and like its on fire   \n",
       "4                 Karoli  @nationwideclass no, it's not behaving at all....  \n",
       "...                  ...                                                ...  \n",
       "1599995  AmandaMarie1028  Just woke up. Having no school is the best fee...  \n",
       "1599996      TheWDBoards  TheWDB.com - Very cool to hear old Walt interv...  \n",
       "1599997           bpbabe  Are you ready for your MoJo Makeover? Ask me f...  \n",
       "1599998     tinydiamondz  Happy 38th Birthday to my boo of alll time!!! ...  \n",
       "1599999   RyanTrevMorris  happy #charitytuesday @theNSPCC @SparksCharity...  \n",
       "\n",
       "[1600000 rows x 6 columns]"
      ]
     },
     "execution_count": 15,
     "metadata": {},
     "output_type": "execute_result"
    }
   ],
   "source": [
    "Data.columns = ['Polarity', 'Tweet_ID','Date','Query_username','Username','Tweet_text']\n",
    "Data"
   ]
  },
  {
   "cell_type": "code",
   "execution_count": 4,
   "metadata": {},
   "outputs": [
    {
     "data": {
      "text/html": [
       "<div>\n",
       "<style scoped>\n",
       "    .dataframe tbody tr th:only-of-type {\n",
       "        vertical-align: middle;\n",
       "    }\n",
       "\n",
       "    .dataframe tbody tr th {\n",
       "        vertical-align: top;\n",
       "    }\n",
       "\n",
       "    .dataframe thead th {\n",
       "        text-align: right;\n",
       "    }\n",
       "</style>\n",
       "<table border=\"1\" class=\"dataframe\">\n",
       "  <thead>\n",
       "    <tr style=\"text-align: right;\">\n",
       "      <th></th>\n",
       "      <th>Polarity</th>\n",
       "      <th>Tweet_ID</th>\n",
       "      <th>Date</th>\n",
       "      <th>Query_username</th>\n",
       "      <th>Username</th>\n",
       "      <th>Tweet_text</th>\n",
       "    </tr>\n",
       "  </thead>\n",
       "  <tbody>\n",
       "    <tr>\n",
       "      <td>433118</td>\n",
       "      <td>0</td>\n",
       "      <td>2064893062</td>\n",
       "      <td>Sun Jun 07 07:25:26 PDT 2009</td>\n",
       "      <td>NO_QUERY</td>\n",
       "      <td>nerdstrap76</td>\n",
       "      <td>Damn it!!! Satellite radio coverage of the #fr...</td>\n",
       "    </tr>\n",
       "    <tr>\n",
       "      <td>94612</td>\n",
       "      <td>0</td>\n",
       "      <td>1771131035</td>\n",
       "      <td>Mon May 11 23:17:40 PDT 2009</td>\n",
       "      <td>NO_QUERY</td>\n",
       "      <td>elmobytes</td>\n",
       "      <td>Ah! I woke up with a pain in my knee.  will I ...</td>\n",
       "    </tr>\n",
       "    <tr>\n",
       "      <td>608475</td>\n",
       "      <td>0</td>\n",
       "      <td>2223350289</td>\n",
       "      <td>Thu Jun 18 08:09:54 PDT 2009</td>\n",
       "      <td>NO_QUERY</td>\n",
       "      <td>kandicewithak</td>\n",
       "      <td>@cupcaketruck I am bummed I keep missing you</td>\n",
       "    </tr>\n",
       "    <tr>\n",
       "      <td>507873</td>\n",
       "      <td>0</td>\n",
       "      <td>2189015030</td>\n",
       "      <td>Mon Jun 15 23:03:11 PDT 2009</td>\n",
       "      <td>NO_QUERY</td>\n",
       "      <td>KurzweilBarr</td>\n",
       "      <td>Just got sucker punched in the head while at t...</td>\n",
       "    </tr>\n",
       "    <tr>\n",
       "      <td>616989</td>\n",
       "      <td>0</td>\n",
       "      <td>2226876612</td>\n",
       "      <td>Thu Jun 18 12:29:57 PDT 2009</td>\n",
       "      <td>NO_QUERY</td>\n",
       "      <td>taatj</td>\n",
       "      <td>if i fight, my dreams 'come true. but there're...</td>\n",
       "    </tr>\n",
       "  </tbody>\n",
       "</table>\n",
       "</div>"
      ],
      "text/plain": [
       "        Polarity    Tweet_ID                          Date Query_username  \\\n",
       "433118         0  2064893062  Sun Jun 07 07:25:26 PDT 2009       NO_QUERY   \n",
       "94612          0  1771131035  Mon May 11 23:17:40 PDT 2009       NO_QUERY   \n",
       "608475         0  2223350289  Thu Jun 18 08:09:54 PDT 2009       NO_QUERY   \n",
       "507873         0  2189015030  Mon Jun 15 23:03:11 PDT 2009       NO_QUERY   \n",
       "616989         0  2226876612  Thu Jun 18 12:29:57 PDT 2009       NO_QUERY   \n",
       "\n",
       "             Username                                         Tweet_text  \n",
       "433118    nerdstrap76  Damn it!!! Satellite radio coverage of the #fr...  \n",
       "94612       elmobytes  Ah! I woke up with a pain in my knee.  will I ...  \n",
       "608475  kandicewithak      @cupcaketruck I am bummed I keep missing you   \n",
       "507873   KurzweilBarr  Just got sucker punched in the head while at t...  \n",
       "616989          taatj  if i fight, my dreams 'come true. but there're...  "
      ]
     },
     "execution_count": 4,
     "metadata": {},
     "output_type": "execute_result"
    }
   ],
   "source": [
    "# Besoin d'entrainer sur beaucoup moins de tweets (j'en prends que 10 000 ici, 5000 positifs et 5000 négatifs)! \n",
    "\n",
    "Datapos = Data[Data['Polarity']==0]\n",
    "Dataneg = Data[Data['Polarity']==4]\n",
    "\n",
    "Data_sub = pd.concat([Datapos.sample(5000),Dataneg.sample(5000)], axis=0)\n",
    "Data_sub.head()"
   ]
  },
  {
   "cell_type": "markdown",
   "metadata": {},
   "source": [
    "# 1.2. Dividing between training and testing data's"
   ]
  },
  {
   "cell_type": "code",
   "execution_count": 5,
   "metadata": {},
   "outputs": [
    {
     "name": "stdout",
     "output_type": "stream",
     "text": [
      "On a 1600000 tweets au total.\n",
      "{0, 4}\n"
     ]
    }
   ],
   "source": [
    "# On va diviser ce dataset en données d'entrainement et données test. J'ai choisi au hasard une proportion 70/30. \n",
    "\n",
    "number_tweets = list(Data.shape)[0]\n",
    "print('On a',number_tweets, 'tweets au total.')\n",
    "print(set(Data['Polarity']))"
   ]
  },
  {
   "cell_type": "code",
   "execution_count": 6,
   "metadata": {},
   "outputs": [],
   "source": [
    "from sklearn.model_selection import train_test_split\n",
    "Data_train, Data_test = train_test_split(Data_sub, test_size=0.3)"
   ]
  },
  {
   "cell_type": "code",
   "execution_count": 7,
   "metadata": {},
   "outputs": [
    {
     "data": {
      "text/html": [
       "<div>\n",
       "<style scoped>\n",
       "    .dataframe tbody tr th:only-of-type {\n",
       "        vertical-align: middle;\n",
       "    }\n",
       "\n",
       "    .dataframe tbody tr th {\n",
       "        vertical-align: top;\n",
       "    }\n",
       "\n",
       "    .dataframe thead th {\n",
       "        text-align: right;\n",
       "    }\n",
       "</style>\n",
       "<table border=\"1\" class=\"dataframe\">\n",
       "  <thead>\n",
       "    <tr style=\"text-align: right;\">\n",
       "      <th></th>\n",
       "      <th>Polarity</th>\n",
       "      <th>Tweet_ID</th>\n",
       "      <th>Date</th>\n",
       "      <th>Query_username</th>\n",
       "      <th>Username</th>\n",
       "      <th>Tweet_text</th>\n",
       "    </tr>\n",
       "  </thead>\n",
       "  <tbody>\n",
       "    <tr>\n",
       "      <td>93021</td>\n",
       "      <td>0</td>\n",
       "      <td>1760313774</td>\n",
       "      <td>Sun May 10 21:12:05 PDT 2009</td>\n",
       "      <td>NO_QUERY</td>\n",
       "      <td>annemul</td>\n",
       "      <td>no mel in religion, i guess im spilling all m...</td>\n",
       "    </tr>\n",
       "    <tr>\n",
       "      <td>832811</td>\n",
       "      <td>4</td>\n",
       "      <td>1557649524</td>\n",
       "      <td>Sun Apr 19 05:19:12 PDT 2009</td>\n",
       "      <td>NO_QUERY</td>\n",
       "      <td>themusicninja</td>\n",
       "      <td>@kmeker http://www.themusicninja.com is a good...</td>\n",
       "    </tr>\n",
       "    <tr>\n",
       "      <td>13598</td>\n",
       "      <td>0</td>\n",
       "      <td>1553326033</td>\n",
       "      <td>Sat Apr 18 13:58:07 PDT 2009</td>\n",
       "      <td>NO_QUERY</td>\n",
       "      <td>DarknessBound</td>\n",
       "      <td>Due to my watching YouTube videos wandering ab...</td>\n",
       "    </tr>\n",
       "    <tr>\n",
       "      <td>716931</td>\n",
       "      <td>0</td>\n",
       "      <td>2259852142</td>\n",
       "      <td>Sat Jun 20 18:16:01 PDT 2009</td>\n",
       "      <td>NO_QUERY</td>\n",
       "      <td>smallinfinities</td>\n",
       "      <td>Arg! I just did the wrong practice essay.</td>\n",
       "    </tr>\n",
       "    <tr>\n",
       "      <td>335028</td>\n",
       "      <td>0</td>\n",
       "      <td>2013697740</td>\n",
       "      <td>Tue Jun 02 23:20:04 PDT 2009</td>\n",
       "      <td>NO_QUERY</td>\n",
       "      <td>GraceEunhyae</td>\n",
       "      <td>I wish I had cable. I'm missing out on Man vs....</td>\n",
       "    </tr>\n",
       "  </tbody>\n",
       "</table>\n",
       "</div>"
      ],
      "text/plain": [
       "        Polarity    Tweet_ID                          Date Query_username  \\\n",
       "93021          0  1760313774  Sun May 10 21:12:05 PDT 2009       NO_QUERY   \n",
       "832811         4  1557649524  Sun Apr 19 05:19:12 PDT 2009       NO_QUERY   \n",
       "13598          0  1553326033  Sat Apr 18 13:58:07 PDT 2009       NO_QUERY   \n",
       "716931         0  2259852142  Sat Jun 20 18:16:01 PDT 2009       NO_QUERY   \n",
       "335028         0  2013697740  Tue Jun 02 23:20:04 PDT 2009       NO_QUERY   \n",
       "\n",
       "               Username                                         Tweet_text  \n",
       "93021           annemul   no mel in religion, i guess im spilling all m...  \n",
       "832811    themusicninja  @kmeker http://www.themusicninja.com is a good...  \n",
       "13598     DarknessBound  Due to my watching YouTube videos wandering ab...  \n",
       "716931  smallinfinities         Arg! I just did the wrong practice essay.   \n",
       "335028     GraceEunhyae  I wish I had cable. I'm missing out on Man vs....  "
      ]
     },
     "execution_count": 7,
     "metadata": {},
     "output_type": "execute_result"
    }
   ],
   "source": [
    "Data_train.head()"
   ]
  },
  {
   "cell_type": "markdown",
   "metadata": {},
   "source": [
    "# 2. Vectorizing the data's"
   ]
  },
  {
   "cell_type": "code",
   "execution_count": 8,
   "metadata": {},
   "outputs": [],
   "source": [
    "#J'ai utilisé les paramètres et la méthode d'embedding comme préconisée dans le tutoriel mais on peut changer \n",
    "\n",
    "from sklearn.feature_extraction.text import TfidfVectorizer\n",
    "\n",
    "# Create feature vectors\n",
    "vectorizer = TfidfVectorizer(min_df = 5,\n",
    "                             max_df = 0.8,\n",
    "                             sublinear_tf = True,\n",
    "                             use_idf = True)\n",
    "\n",
    "train_vectors = vectorizer.fit_transform(Data_train['Tweet_text'])\n",
    "test_vectors = vectorizer.transform(Data_test['Tweet_text'])"
   ]
  },
  {
   "cell_type": "code",
   "execution_count": 9,
   "metadata": {},
   "outputs": [
    {
     "data": {
      "text/plain": [
       "(7000, 1657)"
      ]
     },
     "execution_count": 9,
     "metadata": {},
     "output_type": "execute_result"
    }
   ],
   "source": [
    "train_vectors.shape"
   ]
  },
  {
   "cell_type": "code",
   "execution_count": 10,
   "metadata": {},
   "outputs": [
    {
     "data": {
      "text/plain": [
       "pandas.core.series.Series"
      ]
     },
     "execution_count": 10,
     "metadata": {},
     "output_type": "execute_result"
    }
   ],
   "source": [
    "type(Data_train['Tweet_text'])"
   ]
  },
  {
   "cell_type": "code",
   "execution_count": 11,
   "metadata": {},
   "outputs": [],
   "source": [
    "# Il faudrait checker ce qu'on obtient comme sortie, \n",
    "# mais je ferai ça plus tard pcq je suis même pas sure qu'on va utiliser ce vectorizer là"
   ]
  },
  {
   "cell_type": "markdown",
   "metadata": {},
   "source": [
    "# 3. Creating a Linear SVM Model"
   ]
  },
  {
   "cell_type": "code",
   "execution_count": 12,
   "metadata": {},
   "outputs": [
    {
     "name": "stdout",
     "output_type": "stream",
     "text": [
      "Training time: 3.652419s; Prediction time: 1.097215s\n",
      "positive:  {'precision': 0.7410412440838404, 'recall': 0.7306666666666667, 'f1-score': 0.7358173883853643, 'support': 1500}\n",
      "negative:  {'precision': 0.7343852728468113, 'recall': 0.7446666666666667, 'f1-score': 0.739490235021516, 'support': 1500}\n"
     ]
    }
   ],
   "source": [
    "import time\n",
    "from sklearn import svm\n",
    "from sklearn.metrics import classification_report\n",
    "\n",
    "# Perform classification with SVM, kernel=linear\n",
    "\n",
    "# Le classifier sera SVC : take as input two arrays: an array X of shape (n_samples, n_features) \n",
    "# holding the training samples, and an array y of class labels (strings or integers), of shape (n_samples)\n",
    "\n",
    "# Training \n",
    "classifier_linear = svm.SVC(kernel='linear') \n",
    "t0 = time.time()\n",
    "classifier_linear.fit(train_vectors, Data_train['Polarity']) #fit pour définir le modèle \n",
    "\n",
    "# Testing \n",
    "t1 = time.time()\n",
    "prediction_linear = classifier_linear.predict(test_vectors) #predict pour prédire \n",
    "t2 = time.time()\n",
    "\n",
    "# Time calculation \n",
    "time_linear_train = t1-t0\n",
    "time_linear_predict = t2-t1\n",
    "\n",
    "# results\n",
    "print(\"Training time: %fs; Prediction time: %fs\" % (time_linear_train, time_linear_predict))\n",
    "report = classification_report(Data_test['Polarity'], prediction_linear, output_dict=True)\n",
    "print('positive: ', report['0'])\n",
    "print('negative: ', report['4'])"
   ]
  },
  {
   "cell_type": "code",
   "execution_count": 14,
   "metadata": {},
   "outputs": [
    {
     "name": "stdout",
     "output_type": "stream",
     "text": [
      "[4 4 0 ... 0 0 0]\n"
     ]
    }
   ],
   "source": [
    "print(prediction_linear)"
   ]
  },
  {
   "cell_type": "code",
   "execution_count": null,
   "metadata": {},
   "outputs": [],
   "source": []
  }
 ],
 "metadata": {
  "kernelspec": {
   "display_name": "Python 3",
   "language": "python",
   "name": "python3"
  },
  "language_info": {
   "codemirror_mode": {
    "name": "ipython",
    "version": 3
   },
   "file_extension": ".py",
   "mimetype": "text/x-python",
   "name": "python",
   "nbconvert_exporter": "python",
   "pygments_lexer": "ipython3",
   "version": "3.7.4"
  }
 },
 "nbformat": 4,
 "nbformat_minor": 2
}
